{
 "cells": [
  {
   "cell_type": "code",
   "execution_count": 2,
   "metadata": {
    "tags": [
     "boilerplate"
    ]
   },
   "outputs": [],
   "source": [
    "import dagstermill as dm\n",
    "from dagstermill.dagstermill_tests.repository import define_example_repository\n",
    "dm.declare_as_solid(define_example_repository(), 'add_two_numbers')"
   ]
  },
  {
   "cell_type": "code",
   "execution_count": 3,
   "metadata": {
    "tags": [
     "your_parameters"
    ]
   },
   "outputs": [],
   "source": [
    "parameters = dict(\n",
    "    a = 4,\n",
    "    b = 6,\n",
    "    c = 2\n",
    ")"
   ]
  },
  {
   "cell_type": "code",
   "execution_count": 4,
   "metadata": {
    "tags": [
     "parameters",
     "DO_NOT_MODIFY"
    ]
   },
   "outputs": [
    {
     "name": "stdout",
     "output_type": "stream",
     "text": [
      "To use the parameters you've just defined, please put the following in the cell labeled 'unpack':\n",
      "\n",
      "a = context['a']\n",
      "b = context['b']\n",
      "c = context['c']\n",
      "\n"
     ]
    }
   ],
   "source": [
    "#We need to give the user a warning that they should not modify this cell, \n",
    "#because I'm not sure if papermill would be happy if it saw a = 5 in this cell,\n",
    "#but we didn't inject it when executing with papermill\n",
    "context = dm.define_context(inputs=parameters)"
   ]
  },
  {
   "cell_type": "code",
   "execution_count": null,
   "metadata": {},
   "outputs": [],
   "source": [
    "context = \"string\"\n",
    "context = dm.convert_context(context)"
   ]
  },
  {
   "cell_type": "code",
   "execution_count": 1,
   "metadata": {
    "tags": [
     "convert-context",
     "DO_NOT_MODIFY"
    ]
   },
   "outputs": [
    {
     "ename": "NameError",
     "evalue": "name 'dm' is not defined",
     "output_type": "error",
     "traceback": [
      "\u001b[0;31m---------------------------------------------------------------------------\u001b[0m",
      "\u001b[0;31mNameError\u001b[0m                                 Traceback (most recent call last)",
      "\u001b[0;32m<ipython-input-1-891be01d178b>\u001b[0m in \u001b[0;36m<module>\u001b[0;34m\u001b[0m\n\u001b[1;32m      2\u001b[0m \u001b[0;31m#IDEALLY: we could inject this line in inject-parameters because that's the only time we'd need it\u001b[0m\u001b[0;34m\u001b[0m\u001b[0;34m\u001b[0m\u001b[0m\n\u001b[1;32m      3\u001b[0m \u001b[0;31m#but this probably involves messing with papermill\u001b[0m\u001b[0;34m\u001b[0m\u001b[0;34m\u001b[0m\u001b[0m\n\u001b[0;32m----> 4\u001b[0;31m \u001b[0mcontext\u001b[0m \u001b[0;34m=\u001b[0m \u001b[0mdm\u001b[0m\u001b[0;34m.\u001b[0m\u001b[0mconvert_context\u001b[0m\u001b[0;34m(\u001b[0m\u001b[0mcontext\u001b[0m\u001b[0;34m)\u001b[0m\u001b[0;34m\u001b[0m\u001b[0m\n\u001b[0m",
      "\u001b[0;31mNameError\u001b[0m: name 'dm' is not defined"
     ]
    }
   ],
   "source": [
    "#We need this because if context is a string, we can't override the getitem \n",
    "#IDEALLY: we could inject this line in inject-parameters because that's the only time we'd need it\n",
    "#but this probably involves messing with papermill\n"
   ]
  },
  {
   "cell_type": "code",
   "execution_count": 5,
   "metadata": {
    "tags": [
     "unpack"
    ]
   },
   "outputs": [],
   "source": [
    "a = context['a']\n",
    "b = context['b']\n",
    "c = context['c']"
   ]
  },
  {
   "cell_type": "code",
   "execution_count": null,
   "metadata": {},
   "outputs": [],
   "source": []
  }
 ],
 "metadata": {
  "celltoolbar": "Tags",
  "kernelspec": {
   "display_name": "dagster",
   "language": "python",
   "name": "dagster"
  },
  "language_info": {
   "codemirror_mode": {
    "name": "ipython",
    "version": 3
   },
   "file_extension": ".py",
   "mimetype": "text/x-python",
   "name": "python",
   "nbconvert_exporter": "python",
   "pygments_lexer": "ipython3",
   "version": "3.6.5"
  }
 },
 "nbformat": 4,
 "nbformat_minor": 2
}
