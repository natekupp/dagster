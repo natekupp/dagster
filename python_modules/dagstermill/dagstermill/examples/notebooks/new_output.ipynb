{
 "cells": [
  {
   "cell_type": "code",
   "execution_count": 1,
   "metadata": {
    "papermill": {
     "duration": 1.761781,
     "end_time": "2019-01-09T22:08:59.228918",
     "exception": false,
     "start_time": "2019-01-09T22:08:57.467137",
     "status": "completed"
    },
    "tags": []
   },
   "outputs": [],
   "source": [
    "import dagstermill as dm\n",
    "from dagstermill.dagstermill_tests.repository import define_example_repository\n",
    "dm.declare_as_solid(define_example_repository(), 'mult_two_numbers')\n",
    "import json"
   ]
  },
  {
   "cell_type": "code",
   "execution_count": 2,
   "metadata": {
    "papermill": {
     "duration": 0.009061,
     "end_time": "2019-01-09T22:08:59.242365",
     "exception": false,
     "start_time": "2019-01-09T22:08:59.233304",
     "status": "completed"
    },
    "tags": [
     "parameters"
    ]
   },
   "outputs": [
    {
     "name": "stdout",
     "output_type": "stream",
     "text": [
      "To use the parameters you've just defined, please put the following in the cell labeled 'unpack':\n",
      "\n",
      "a = context['a']\n",
      "b = context['b']\n",
      "\n"
     ]
    }
   ],
   "source": [
    "context = dm.define_context(inputs=dict(a=2, b=3))"
   ]
  },
  {
   "cell_type": "code",
   "execution_count": 3,
   "metadata": {
    "papermill": {
     "duration": 0.010079,
     "end_time": "2019-01-09T22:08:59.256235",
     "exception": false,
     "start_time": "2019-01-09T22:08:59.246156",
     "status": "completed"
    },
    "tags": [
     "injected-parameters"
    ]
   },
   "outputs": [],
   "source": [
    "# Parameters\n",
    "context = \"{\\\"pipeline_name\\\": \\\"test_notebook_dag\\\", \\\"solid_def_name\\\": \\\"mult_two_numbers\\\", \\\"marshal_dir\\\": null, \\\"inputs\\\": {\\\"a\\\": 5, \\\"b\\\": 6}}\"\n",
    "context = dm.convert_context(context)\n",
    "#Test newline"
   ]
  },
  {
   "cell_type": "code",
   "execution_count": 4,
   "metadata": {
    "papermill": {
     "duration": 0.011121,
     "end_time": "2019-01-09T22:08:59.270985",
     "exception": false,
     "start_time": "2019-01-09T22:08:59.259864",
     "status": "completed"
    },
    "tags": []
   },
   "outputs": [],
   "source": [
    "a = context['a']\n",
    "b = context['b']"
   ]
  },
  {
   "cell_type": "code",
   "execution_count": 5,
   "metadata": {
    "papermill": {
     "duration": 0.01621,
     "end_time": "2019-01-09T22:08:59.290954",
     "exception": false,
     "start_time": "2019-01-09T22:08:59.274744",
     "status": "completed"
    },
    "tags": []
   },
   "outputs": [
    {
     "data": {
      "text/plain": [
       "30"
      ]
     },
     "execution_count": 5,
     "metadata": {},
     "output_type": "execute_result"
    }
   ],
   "source": [
    "result = a * b\n",
    "result"
   ]
  }
 ],
 "metadata": {
  "celltoolbar": "Tags",
  "kernelspec": {
   "display_name": "dagster",
   "language": "python",
   "name": "dagster"
  },
  "language_info": {
   "codemirror_mode": {
    "name": "ipython",
    "version": 3
   },
   "file_extension": ".py",
   "mimetype": "text/x-python",
   "name": "python",
   "nbconvert_exporter": "python",
   "pygments_lexer": "ipython3",
   "version": "3.6.5"
  },
  "papermill": {
   "duration": 3.494149,
   "end_time": "2019-01-09T22:08:59.827097",
   "environment_variables": {},
   "exception": null,
   "input_path": "notebooks/new_mult_two_numbers.ipynb",
   "output_path": "notebooks/new_output.ipynb",
   "parameters": {
    "context": "{\"pipeline_name\": \"test_notebook_dag\", \"solid_def_name\": \"mult_two_numbers\", \"marshal_dir\": null, \"inputs\": {\"a\": 5, \"b\": 6}}"
   },
   "start_time": "2019-01-09T22:08:56.332948",
   "version": "0.16.2+12.g1dd8d67.dirty"
  }
 },
 "nbformat": 4,
 "nbformat_minor": 2
}